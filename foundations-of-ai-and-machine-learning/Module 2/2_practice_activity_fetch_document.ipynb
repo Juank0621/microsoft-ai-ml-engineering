{
  "cells": [
    {
      "cell_type": "markdown",
      "metadata": {},
      "source": [
        "# Practice Activity: Fetch a Document Using a Python Web Scraper\n",
        "\n",
        "## Introduction\n",
        "\n",
        "Now that you've set up a basic web scraper using Python, we'll extend that knowledge to fetch a specific document, such as a PDF file or a text file, from a website. This is a common requirement when dealing with web scraping, as many useful data sources are available in downloadable documents. You will learn how to identify and download documents using the web scraper you built.\n",
        "\n",
        "By the end of this reading, you will be able to:\n",
        "\n",
        "- Identify the location of document links within a webpage's HTML structure.\n",
        "- Convert relative URLs to full URLs for document downloads.\n",
        "- Download single and multiple documents effectively using Python.\n",
        "- Implement best practices for responsible web scraping."
      ]
    },
    {
      "cell_type": "markdown",
      "metadata": {},
      "source": [
        "## Step-by-step guide\n",
        "\n",
        "### 1. Identify the document link\n",
        "\n",
        "Start by selecting a website that offers downloadable reports, research papers, or datasets. Look for sections labeled \"Downloads,\" \"Reports,\" or \"Resources.\" Before you can download a document, you need to identify its location on the webpage. Typically, documents are linked via <a> (anchor) tags, which you can locate by inspecting the webpage's HTML structure. Right-click a document link and select Inspect to view its HTML. Identify an <a> tag with an href attribute containing .pdf, .txt, or another document format. If the link is relative (e.g., /files/report.pdf), combine it with the base website URL to form a full URL before using it in your scraper.\n",
        "\n",
        "**Example HTML snippet:**"
      ]
    },
    {
      "cell_type": "code",
      "execution_count": null,
      "metadata": {},
      "outputs": [],
      "source": [
        "# Example HTML snippet:\n",
        "# <a href=\"/files/report.pdf\" class=\"download-link\">Download Report</a>"
      ]
    },
    {
      "cell_type": "markdown",
      "metadata": {},
      "source": [
        "In this example, the document (report.pdf) is linked within an <a> tag with the class \"download-link.\" The href attribute contains the path to the document.\n",
        "\n",
        "**Parse the HTML and find the document link**\n",
        "\n",
        "You can use BeautifulSoup to find the link to the document:"
      ]
    },
    {
      "cell_type": "code",
      "execution_count": null,
      "metadata": {},
      "outputs": [],
      "source": [
        "import requests\n",
        "from bs4 import BeautifulSoup\n",
        "import os\n",
        "\n",
        "# Step 1: Send an HTTP request to the webpage\n",
        "url = 'https://example.com/reports' # Replace with the actual URL\n",
        "response = requests.get(url)\n",
        "\n",
        "# Check if the request was successful\n",
        "if response.status_code == 200:\n",
        "    soup = BeautifulSoup(response.content, 'html.parser')\n",
        "else:\n",
        "    print('Failed to retrieve the webpage.')\n",
        "    exit()\n",
        "\n",
        "# Step 2: Find the document link\n",
        "document_link = soup.find('a', {'class': 'download-link'})['href']\n",
        "\n",
        "# Print the document link to verify\n",
        "print('Document link found:', document_link)"
      ]
    },
    {
      "cell_type": "markdown",
      "metadata": {},
      "source": [
        "**Explanation:** This code sends a request to the webpage and parses the HTML. It then searches for an <a> tag with the class download-link and extracts the href attribute, which contains the path to the document."
      ]
    },
    {
      "cell_type": "markdown",
      "metadata": {},
      "source": [
        "## 2. Handle relative URLs\n",
        "\n",
        "The link extracted from the webpage might be a relative URL (e.g., /files/report.pdf) rather than a full URL. You need to convert this into a full URL before making a request to download the document.\n",
        "\n",
        "**Convert the relative URL to a full URL**"
      ]
    },
    {
      "cell_type": "code",
      "execution_count": null,
      "metadata": {},
      "outputs": [],
      "source": [
        "# Handle relative URLs\n",
        "base_url = 'https://example.com' # The base URL of the website\n",
        "full_url = os.path.join(base_url, document_link)\n",
        "\n",
        "print('Full URL:', full_url)"
      ]
    },
    {
      "cell_type": "markdown",
      "metadata": {},
      "source": [
        "**Explanation:** The os.path.join() function combines the base URL with the relative URL to form a full URL that can be used to download the document."
      ]
    },
    {
      "cell_type": "markdown",
      "metadata": {},
      "source": [
        "## 3. Download the document\n",
        "\n",
        "With the full URL in hand, you can now send a request to download the document. The downloaded file can be saved to your local machine.\n",
        "\n",
        "### Download and save the document"
      ]
    },
    {
      "cell_type": "code",
      "execution_count": null,
      "metadata": {},
      "outputs": [],
      "source": [
        "# Step 3: Download the document\n",
        "document_response = requests.get(full_url)\n",
        "\n",
        "# Check if the document request was successful\n",
        "if document_response.status_code == 200:\n",
        "    # Save the document to a file\n",
        "    with open('report.pdf', 'wb') as file:\n",
        "        file.write(document_response.content)\n",
        "    \n",
        "    print('Document downloaded successfully.')\n",
        "else:\n",
        "    print('Failed to download the document. Status code:', document_response.status_code)"
      ]
    },
    {
      "cell_type": "markdown",
      "metadata": {},
      "source": [
        "**Explanation:** This code sends a GET request to the document's full URL. If the request is successful, it writes the content of the response to a file (in this case, report.pdf). The wb mode is used to write the file in binary format, which is necessary for non-text files such as PDFs."
      ]
    },
    {
      "cell_type": "markdown",
      "metadata": {},
      "source": [
        "## 4. Fetch multiple documents\n",
        "\n",
        "If a webpage contains multiple documents you want to download, you can modify the scraper to loop through all the document links and download each one.\n",
        "\n",
        "### Example: Downloading multiple documents"
      ]
    },
    {
      "cell_type": "code",
      "execution_count": null,
      "metadata": {},
      "outputs": [],
      "source": [
        "# Find all document links on the page\n",
        "document_links = soup.find_all('a', {'class': 'download-link'})\n",
        "\n",
        "# Loop through each link and download the corresponding document\n",
        "for i, link in enumerate(document_links):\n",
        "    document_url = os.path.join(base_url, link['href'])\n",
        "    document_response = requests.get(document_url)\n",
        "    \n",
        "    if document_response.status_code == 200:\n",
        "        # Save each document with a unique name\n",
        "        file_name = f'report_{i+1}.pdf'\n",
        "        \n",
        "        with open(file_name, 'wb') as file:\n",
        "            file.write(document_response.content)\n",
        "        \n",
        "        print(f'Document {i+1} downloaded successfully as {file_name}.')\n",
        "    else:\n",
        "        print(f'Failed to download document {i+1}. Status code:', document_response.status_code)"
      ]
    },
    {
      "cell_type": "markdown",
      "metadata": {},
      "source": [
        "**Explanation:** This code snippet finds all the document links on the page, iterates through them, and downloads each document, saving it with a unique filename."
      ]
    },
    {
      "cell_type": "markdown",
      "metadata": {},
      "source": [
        "## 5. Important considerations\n",
        "\n",
        "**Respect website permissions:** Always check the website's terms of service to ensure you're allowed to download documents using automated tools.\n",
        "\n",
        "**Handle different file types accordingly:** Depending on the type of document, you might need to adjust your code to handle different file formats (e.g., .txt, .csv, and .docx).\n",
        "\n",
        "**Manage large downloads:** If you're downloading large files, consider adding error handling and resuming capabilities to your scraper."
      ]
    },
    {
      "cell_type": "markdown",
      "metadata": {},
      "source": [
        "## Conclusion\n",
        "\n",
        "By extending your web scraper to fetch documents, you can automate the process of acquiring valuable resources from the web. Whether you're downloading reports, datasets, or other types of files, understanding how to identify document links and handle file downloads is a critical skill in data acquisition. With the examples provided, you should be well equipped to implement document fetching in your web scraping projects.\n",
        "\n",
        "Continue experimenting with different websites and document types to refine your scraper, and always remember to scrape responsibly and ethically."
      ]
    }
  ],
  "metadata": {
    "language_info": {
      "name": "python"
    }
  },
  "nbformat": 4,
  "nbformat_minor": 2
}

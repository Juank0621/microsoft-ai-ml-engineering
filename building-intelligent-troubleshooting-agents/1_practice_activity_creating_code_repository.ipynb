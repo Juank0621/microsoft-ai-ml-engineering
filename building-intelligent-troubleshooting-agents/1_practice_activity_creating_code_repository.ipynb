{
  "cells": [
    {
      "cell_type": "markdown",
      "metadata": {},
      "source": [
        "# Practice Activity: Creating Your Code Repository\n",
        "\n",
        "## Introduction\n",
        "\n",
        "In this activity, you will learn how to create and manage a code repository to store your ML projects. A well-organized repository is essential for collaboration, version control, and future improvements. You will set up a Git repository, commit your code, and push it to a platform such as GitHub.\n",
        "\n",
        "By the end of this activity, you will:\n",
        "\n",
        "- Create a Git repository for your project.\n",
        "- Add and organize your project files.\n",
        "- Commit your changes with meaningful messages.\n",
        "- Push your repository to a remote platform (e.g., GitHub).\n",
        "- Set up version control for ongoing development."
      ]
    },
    {
      "cell_type": "markdown",
      "metadata": {},
      "source": [
        "## Step-by-step process to create your code repository\n",
        "\n",
        "This reading will guide you through the following steps:\n",
        "\n",
        "- Step 1: Set up a Git repository\n",
        "- Step 2: Organize your project files\n",
        "- Step 3: Stage and commit files\n",
        "- Step 4: Push your code to a remote repository\n",
        "- Step 5: Set up version control"
      ]
    },
    {
      "cell_type": "markdown",
      "metadata": {},
      "source": [
        "## Step 1: Set up a Git repository\n",
        "\n",
        "Initializing a Git repository allows you to track changes to your project, making collaboration and version control easier.\n",
        "\n",
        "Start by initializing a Git repository for your machine learning project. If you don't have Git installed, follow the instructions below to install it.\n",
        "\n",
        "1. **Install Git (if not installed) by running:**"
      ]
    },
    {
      "cell_type": "code",
      "execution_count": null,
      "metadata": {},
      "outputs": [],
      "source": [
        "# For Linux\n",
        "# sudo apt-get install git\n",
        "\n",
        "# For macOS  \n",
        "# brew install git"
      ]
    },
    {
      "cell_type": "markdown",
      "metadata": {},
      "source": [
        "2. **Navigate to the folder containing your project files.**\n",
        "\n",
        "3. Initialize a Git repository using the following command:"
      ]
    },
    {
      "cell_type": "code",
      "execution_count": null,
      "metadata": {},
      "outputs": [],
      "source": [
        "# Initialize Git repository\n",
        "!git init"
      ]
    },
    {
      "cell_type": "markdown",
      "metadata": {},
      "source": [
        "## Step 2: Organize your project files\n",
        "\n",
        "Organizing your files into directories helps to keep your project structured and makes it easier for others to understand and contribute.\n",
        "\n",
        "Create meaningful directory structures for your data, model, scripts, and other files:\n",
        "\n",
        "1. Create directories for your project files, such as:"
      ]
    },
    {
      "cell_type": "code",
      "execution_count": null,
      "metadata": {},
      "outputs": [],
      "source": [
        "# Create project directory structure\n",
        "!mkdir data\n",
        "!mkdir models  \n",
        "!mkdir scripts\n",
        "!mkdir notebooks"
      ]
    },
    {
      "cell_type": "markdown",
      "metadata": {},
      "source": [
        "2. Move your project files into the appropriate directories.\n",
        "\n",
        "## Step 3: Stage and commit files\n",
        "\n",
        "Committing your code regularly with meaningful messages helps to track changes and makes it easier to revert to previous versions if needed.\n",
        "\n",
        "Once your project files are organized, stage them for commit and make your first commit with a meaningful message like the following:\n",
        "\n",
        "1. Stage your files for commit with the command:"
      ]
    },
    {
      "cell_type": "code",
      "execution_count": null,
      "metadata": {},
      "outputs": [],
      "source": [
        "# Stage all files for commit\n",
        "!git add ."
      ]
    },
    {
      "cell_type": "markdown",
      "metadata": {},
      "source": [
        "2. Commit your files with a descriptive message, such as:"
      ]
    },
    {
      "cell_type": "code",
      "execution_count": null,
      "metadata": {},
      "outputs": [],
      "source": [
        "# Commit files with meaningful message\n",
        "!git commit -m \"Initial commit: added project files and organized structure\""
      ]
    },
    {
      "cell_type": "markdown",
      "metadata": {},
      "source": [
        "## Step 4: Push your code to a remote repository\n",
        "\n",
        "Pushing your code to a remote repository ensures that your project is backed up and accessible to collaborators. It also allows for version control across different development environments.\n",
        "\n",
        "Set up a remote repository on a platform such as GitHub, GitLab, or Bitbucket, and push your code to it. Follow the below instructions for GitHub.\n",
        "\n",
        "1. Create a new repository on GitHub (or another platform) by following their web interface.\n",
        "\n",
        "2. Link your local repository to the remote repository:"
      ]
    },
    {
      "cell_type": "code",
      "execution_count": null,
      "metadata": {},
      "outputs": [],
      "source": [
        "# Link local repository to remote (replace with your repository URL)\n",
        "!git remote add origin https://github.com/yourusername/your-repo-name.git"
      ]
    },
    {
      "cell_type": "markdown",
      "metadata": {},
      "source": [
        "3. Push your code to the remote repository:"
      ]
    },
    {
      "cell_type": "code",
      "execution_count": null,
      "metadata": {},
      "outputs": [],
      "source": [
        "# Push code to remote repository\n",
        "!git push -u origin main"
      ]
    },
    {
      "cell_type": "markdown",
      "metadata": {},
      "source": [
        "## Step 5: Set up version control\n",
        "\n",
        "Using branches allows you to develop new features or test changes without affecting the main codebase. Once tested, you can merge the changes back into the main branch.\n",
        "\n",
        "Set up version control for ongoing development by following Git's branching and merging workflows.\n",
        "\n",
        "1. Create a new branch for development:"
      ]
    },
    {
      "cell_type": "code",
      "execution_count": null,
      "metadata": {},
      "outputs": [],
      "source": [
        "# Create and switch to a new feature branch\n",
        "!git checkout -b feature-branch"
      ]
    },
    {
      "cell_type": "markdown",
      "metadata": {},
      "source": [
        "2. After making changes, commit them to the feature branch:"
      ]
    },
    {
      "cell_type": "code",
      "execution_count": null,
      "metadata": {},
      "outputs": [],
      "source": [
        "# Stage and commit changes in feature branch\n",
        "!git add .\n",
        "!git commit -m \"Added new feature or updates\""
      ]
    },
    {
      "cell_type": "markdown",
      "metadata": {},
      "source": [
        "3. Merge the feature branch into the main branch:"
      ]
    },
    {
      "cell_type": "code",
      "execution_count": null,
      "metadata": {},
      "outputs": [],
      "source": [
        "# Switch to main branch and merge feature branch\n",
        "!git checkout main\n",
        "!git merge feature-branch"
      ]
    },
    {
      "cell_type": "markdown",
      "metadata": {},
      "source": [
        "## Conclusion\n",
        "\n",
        "In this activity, you created and managed a code repository for your ML project. You learned how to set up Git, organize your files, make commits, and push your code to a remote repository. Using Git and version control helps to streamline collaboration and ensures that your project remains organized and maintainable over time."
      ]
    }
  ],
  "metadata": {
    "language_info": {
      "name": "python"
    }
  },
  "nbformat": 4,
  "nbformat_minor": 2
}
